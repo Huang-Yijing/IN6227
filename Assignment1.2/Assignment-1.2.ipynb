{
 "cells": [
  {
   "cell_type": "markdown",
   "id": "d91c0277-8d10-477f-b4f8-cf0f5fe85ad0",
   "metadata": {},
   "source": [
    "# 1. Imports"
   ]
  },
  {
   "cell_type": "code",
   "execution_count": 2,
   "id": "6d806a3c-406a-40b6-b01b-84918d8dc1ce",
   "metadata": {},
   "outputs": [],
   "source": [
    "import pandas as pd\n",
    "import numpy as np\n",
    "from sklearn.model_selection import train_test_split, GridSearchCV\n",
    "from sklearn.preprocessing import LabelEncoder, StandardScaler\n",
    "from sklearn.impute import SimpleImputer\n",
    "from sklearn.tree import DecisionTreeClassifier\n",
    "from sklearn.neighbors import KNeighborsClassifier\n",
    "from sklearn.metrics import classification_report, accuracy_score\n",
    "import time\n",
    "import re"
   ]
  },
  {
   "cell_type": "markdown",
   "id": "1c7095ba-e5d7-497d-b9cc-ec126fef28ea",
   "metadata": {},
   "source": [
    "# 2. Data Pre-processing"
   ]
  },
  {
   "cell_type": "code",
   "execution_count": 4,
   "id": "1d9ab500-82ab-48c6-89ec-bd88f975d76b",
   "metadata": {},
   "outputs": [],
   "source": [
    "# Load data\n",
    "column_names = [\n",
    "    'age', 'workclass', 'fnlwgt', 'education', 'education_num', 'marital_status', 'occupation', \n",
    "    'relationship', 'race', 'sex', 'capital_gain', 'capital_loss', 'hours_per_week', 'native_country', 'income'\n",
    "]\n",
    "\n",
    "train_data = pd.read_csv('adult.data', header=None, names=column_names, sep=r',\\s+', engine='python')\n",
    "test_data = pd.read_csv('adult.test', header=None, names=column_names, sep=r',\\s+', engine='python', skiprows=1)\n",
    "\n",
    "test_data['income'] = test_data['income'].apply(lambda x: re.sub(r'\\.', '', x))\n",
    "\n",
    "# Processing missing value\n",
    "train_data.replace('?', np.nan, inplace=True)\n",
    "test_data.replace('?', np.nan, inplace=True)\n",
    "train_data.fillna(train_data.mode().iloc[0], inplace=True)\n",
    "test_data.fillna(test_data.mode().iloc[0], inplace=True)\n",
    "\n",
    "# Encoding label\n",
    "le = LabelEncoder()\n",
    "train_data['income'] = le.fit_transform(train_data['income'])\n",
    "test_data['income'] = le.transform(test_data['income'])\n",
    "\n",
    "# One-Hot Encoding\n",
    "categorical_features = ['workclass', 'education', 'marital_status', 'occupation', 'relationship', 'race', 'sex', 'native_country']\n",
    "train_data = pd.get_dummies(train_data, columns=categorical_features)\n",
    "test_data = pd.get_dummies(test_data, columns=categorical_features)\n",
    "\n",
    "# Ensure that the columns of the training and test sets are aligned\n",
    "train_data, test_data = train_data.align(test_data, join='left', axis=1, fill_value=0)\n",
    "\n",
    "# Separate features and labels\n",
    "X_train = train_data.drop('income', axis=1)\n",
    "y_train = train_data['income']\n",
    "X_test = test_data.drop('income', axis=1)\n",
    "y_test = test_data['income']\n",
    "\n",
    "# Feature standardization\n",
    "scaler = StandardScaler()\n",
    "X_train_scaled = scaler.fit_transform(X_train)\n",
    "X_test_scaled = scaler.transform(X_test)"
   ]
  },
  {
   "cell_type": "markdown",
   "id": "c29253e9-b8cb-4fe1-9e0f-1dc0772c2f4e",
   "metadata": {},
   "source": [
    "# 3. The Model: Decision Tree& K-Nearest Neighbors"
   ]
  },
  {
   "cell_type": "code",
   "execution_count": 6,
   "id": "2f5db8d6-fcd2-4ca3-9b23-f82b830d2c87",
   "metadata": {},
   "outputs": [
    {
     "name": "stdout",
     "output_type": "stream",
     "text": [
      "Best hyperparameters of the Decision Tree: {'max_depth': 10, 'min_samples_leaf': 4, 'min_samples_split': 2}\n",
      "Best hyperparameters of the KNN: {'n_neighbors': 30, 'weights': 'uniform'}\n",
      "\n",
      "Decision Tree Classification Report:\n",
      "              precision    recall  f1-score   support\n",
      "\n",
      "           0       0.88      0.94      0.91     12435\n",
      "           1       0.77      0.60      0.67      3846\n",
      "\n",
      "    accuracy                           0.86     16281\n",
      "   macro avg       0.83      0.77      0.79     16281\n",
      "weighted avg       0.86      0.86      0.86     16281\n",
      "\n",
      "Decision Tree Accuracy:  0.862600577360113\n",
      "Decision Tree Train Time: 38.7501s, Test Time: 0.0114s\n",
      "\n",
      "KNN Classification Report:\n",
      "              precision    recall  f1-score   support\n",
      "\n",
      "           0       0.87      0.93      0.89     12435\n",
      "           1       0.69      0.53      0.60      3846\n",
      "\n",
      "    accuracy                           0.83     16281\n",
      "   macro avg       0.78      0.73      0.75     16281\n",
      "weighted avg       0.82      0.83      0.83     16281\n",
      "\n",
      "KNN Accuracy:  0.8337939929979731\n",
      "KNN Train Time: 88.3631s, Test Time: 6.7993s\n"
     ]
    }
   ],
   "source": [
    "# Decision Tree Model\n",
    "dt = DecisionTreeClassifier(random_state=42)\n",
    "param_grid_dt = {\n",
    "    'max_depth': [None, 10, 20, 30], \n",
    "    'min_samples_split': [2, 5, 10], \n",
    "    'min_samples_leaf': [1, 2, 4, 6] \n",
    "}\n",
    "\n",
    "grid_search_dt = GridSearchCV(estimator=dt, param_grid=param_grid_dt, cv=5, n_jobs=-1)\n",
    "start_time = time.time()\n",
    "grid_search_dt.fit(X_train, y_train)\n",
    "train_time_dt = time.time() - start_time\n",
    "\n",
    "# apply model\n",
    "start_time = time.time()\n",
    "y_pred_dt = grid_search_dt.predict(X_test)\n",
    "test_time_dt = time.time() - start_time\n",
    "\n",
    "# K-Nearest Neighbors Model\n",
    "knn = KNeighborsClassifier()\n",
    "param_grid_knn = {\n",
    "    'n_neighbors': [10, 20, 30, 35, 40],\n",
    "    'weights': ['uniform', 'distance']\n",
    "}\n",
    "\n",
    "grid_search_knn = GridSearchCV(estimator=knn, param_grid=param_grid_knn, cv=5, n_jobs=-1)\n",
    "start_time = time.time()\n",
    "grid_search_knn.fit(X_train_scaled, y_train)\n",
    "train_time_knn = time.time() - start_time\n",
    "\n",
    "# apply model\n",
    "start_time = time.time()\n",
    "y_pred_knn = grid_search_knn.predict(X_test_scaled)\n",
    "test_time_knn = time.time() - start_time\n",
    "\n",
    "# Best hyperparameters\n",
    "print(\"Best hyperparameters of the Decision Tree:\", grid_search_dt.best_params_)\n",
    "print(\"Best hyperparameters of the KNN:\", grid_search_knn.best_params_)\n",
    "\n",
    "print(\"\\nDecision Tree Classification Report:\")\n",
    "print(classification_report(y_test, y_pred_dt))\n",
    "print(\"Decision Tree Accuracy: \", accuracy_score(y_test, y_pred_dt))\n",
    "print(f\"Decision Tree Train Time: {train_time_dt:.4f}s, Test Time: {test_time_dt:.4f}s\")\n",
    "\n",
    "print(\"\\nKNN Classification Report:\")\n",
    "print(classification_report(y_test, y_pred_knn))\n",
    "print(\"KNN Accuracy: \", accuracy_score(y_test, y_pred_knn))\n",
    "print(f\"KNN Train Time: {train_time_knn:.4f}s, Test Time: {test_time_knn:.4f}s\")"
   ]
  }
 ],
 "metadata": {
  "kernelspec": {
   "display_name": "Python 3 (ipykernel)",
   "language": "python",
   "name": "python3"
  },
  "language_info": {
   "codemirror_mode": {
    "name": "ipython",
    "version": 3
   },
   "file_extension": ".py",
   "mimetype": "text/x-python",
   "name": "python",
   "nbconvert_exporter": "python",
   "pygments_lexer": "ipython3",
   "version": "3.12.3"
  }
 },
 "nbformat": 4,
 "nbformat_minor": 5
}
